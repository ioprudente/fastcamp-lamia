{
  "nbformat": 4,
  "nbformat_minor": 0,
  "metadata": {
    "colab": {
      "provenance": []
    },
    "kernelspec": {
      "name": "python3",
      "display_name": "Python 3"
    },
    "language_info": {
      "name": "python"
    }
  },
  "cells": [
    {
      "cell_type": "code",
      "source": [
        "!pip install pydantic[email]"
      ],
      "metadata": {
        "colab": {
          "base_uri": "https://localhost:8080/"
        },
        "id": "SBJ34MxIN5W-",
        "outputId": "1973ca3d-c2de-439d-e53b-568f409b1f12"
      },
      "execution_count": null,
      "outputs": [
        {
          "output_type": "stream",
          "name": "stdout",
          "text": [
            "Requirement already satisfied: pydantic[email] in /usr/local/lib/python3.11/dist-packages (2.10.6)\n",
            "Requirement already satisfied: annotated-types>=0.6.0 in /usr/local/lib/python3.11/dist-packages (from pydantic[email]) (0.7.0)\n",
            "Requirement already satisfied: pydantic-core==2.27.2 in /usr/local/lib/python3.11/dist-packages (from pydantic[email]) (2.27.2)\n",
            "Requirement already satisfied: typing-extensions>=4.12.2 in /usr/local/lib/python3.11/dist-packages (from pydantic[email]) (4.12.2)\n",
            "Collecting email-validator>=2.0.0 (from pydantic[email])\n",
            "  Downloading email_validator-2.2.0-py3-none-any.whl.metadata (25 kB)\n",
            "Collecting dnspython>=2.0.0 (from email-validator>=2.0.0->pydantic[email])\n",
            "  Downloading dnspython-2.7.0-py3-none-any.whl.metadata (5.8 kB)\n",
            "Requirement already satisfied: idna>=2.0.0 in /usr/local/lib/python3.11/dist-packages (from email-validator>=2.0.0->pydantic[email]) (3.10)\n",
            "Downloading email_validator-2.2.0-py3-none-any.whl (33 kB)\n",
            "Downloading dnspython-2.7.0-py3-none-any.whl (313 kB)\n",
            "\u001b[2K   \u001b[90m━━━━━━━━━━━━━━━━━━━━━━━━━━━━━━━━━━━━━━━━\u001b[0m \u001b[32m313.6/313.6 kB\u001b[0m \u001b[31m7.8 MB/s\u001b[0m eta \u001b[36m0:00:00\u001b[0m\n",
            "\u001b[?25hInstalling collected packages: dnspython, email-validator\n",
            "Successfully installed dnspython-2.7.0 email-validator-2.2.0\n"
          ]
        }
      ]
    },
    {
      "cell_type": "code",
      "execution_count": null,
      "metadata": {
        "colab": {
          "base_uri": "https://localhost:8080/"
        },
        "id": "R1xEuu3kMStW",
        "outputId": "a890847c-2447-4fde-dd59-3f4286ec6846"
      },
      "outputs": [
        {
          "output_type": "stream",
          "name": "stdout",
          "text": [
            "name='Isabella' email='isabella@ai.com' password=SecretStr('**********') role=None\n",
            "Usuário inválido\n",
            "{'type': 'missing', 'loc': ('name',), 'msg': 'Field required', 'input': {'email': '<bad data>', 'password': '<bad data>'}, 'url': 'https://errors.pydantic.dev/2.10/v/missing'}\n",
            "{'type': 'value_error', 'loc': ('email',), 'msg': 'value is not a valid email address: An email address must have an @-sign.', 'input': '<bad data>', 'ctx': {'reason': 'An email address must have an @-sign.'}}\n"
          ]
        }
      ],
      "source": [
        "from enum import auto, IntFlag\n",
        "from typing import Any\n",
        "\n",
        "from pydantic import (\n",
        "    BaseModel,\n",
        "    EmailStr,\n",
        "    Field,\n",
        "    SecretStr,\n",
        "    ValidationError,\n",
        ")\n",
        "\n",
        "\n",
        "class Role(IntFlag):\n",
        "    \"\"\"Enumeração de papéis (Role).\"\"\"\n",
        "    Author = auto()  # Autor\n",
        "    Editor = auto()  # Editor\n",
        "    Developer = auto()  # Desenvolvedor\n",
        "    Admin = Author | Editor | Developer  # Admin é uma combinação de Autor, Editor e Desenvolvedor\n",
        "\n",
        "\n",
        "class User(BaseModel):\n",
        "    \"\"\"Modelo de usuário (User).\"\"\"\n",
        "    name: str = Field(examples=[\"Isabella\"])  # Nome do usuário com um exemplo\n",
        "    email: EmailStr = Field(\n",
        "        examples=[\"isabella@ai.com\"],\n",
        "        description=\"O endereço de email do usuário\",  # Descrição do campo de email\n",
        "        frozen=True,  # Campo imutável após a criação\n",
        "    )\n",
        "    password: SecretStr = Field(\n",
        "        examples=[\"Password123\"], description=\"A senha do usuário\"  # Descrição do campo de senha\n",
        "    )\n",
        "    role: Role = Field(default=None, description=\"O papel do usuário\")  # Papel de usuário com valor padrão \"None\"\n",
        "\n",
        "\n",
        "# A Função que é responsável por validar os dados\n",
        "def validate(data: dict[str, Any]) -> None:\n",
        "    \"\"\"Valida os dados fornecidos.\"\"\"\n",
        "    try:\n",
        "        user = User.model_validate(data)  # Tenta validar os dados e criar um objeto User\n",
        "        print(user)  # Imprime o objeto User se a validação for bem-sucedida\n",
        "    except ValidationError as errors:\n",
        "        print(\"Usuário inválido\")  # Mensagem de erro se a validação falhar\n",
        "        for error in errors.errors():\n",
        "            print(error)  # Imprime cada erro de validação\n",
        "\n",
        "\n",
        "def main() -> None:\n",
        "    \"\"\"Função principal.\"\"\"\n",
        "    # Dados que serão validados corretamente\n",
        "    good_data = {\n",
        "        \"name\": \"Isabella\",\n",
        "        \"email\": \"isabella@ai.com\",\n",
        "        \"password\": \"Password123\",\n",
        "    }\n",
        "    # Dados ruins que irão gerar um erro de validação\n",
        "    bad_data = {\"email\": \"<bad data>\", \"password\": \"<bad data>\"}\n",
        "\n",
        "    validate(good_data)  # Valida dados corretos\n",
        "    validate(bad_data)  # Valida dados incorretos\n",
        "\n",
        "if __name__ == \"__main__\":\n",
        "    main()  # Executa a função principal se o script for executado diretamente\n"
      ]
    }
  ]
}