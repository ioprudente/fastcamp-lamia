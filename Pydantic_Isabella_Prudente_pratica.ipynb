{
  "nbformat": 4,
  "nbformat_minor": 0,
  "metadata": {
    "colab": {
      "provenance": []
    },
    "kernelspec": {
      "name": "python3",
      "display_name": "Python 3"
    },
    "language_info": {
      "name": "python"
    }
  },
  "cells": [
    {
      "cell_type": "markdown",
      "source": [
        "Usando os conhecimentos adquiridos pra validar dados de uma API que simula de forma simples um gerenciador de bibliotecas/consulta de livros por status."
      ],
      "metadata": {
        "id": "29bqlbfSH0M0"
      }
    },
    {
      "cell_type": "code",
      "source": [
        "!pip install fastapi"
      ],
      "metadata": {
        "colab": {
          "base_uri": "https://localhost:8080/"
        },
        "id": "YWZkS-xrSdBD",
        "outputId": "7c53597e-fac8-45de-f4d8-11a2051b5319"
      },
      "execution_count": null,
      "outputs": [
        {
          "output_type": "stream",
          "name": "stdout",
          "text": [
            "Collecting fastapi\n",
            "  Downloading fastapi-0.115.11-py3-none-any.whl.metadata (27 kB)\n",
            "Collecting starlette<0.47.0,>=0.40.0 (from fastapi)\n",
            "  Downloading starlette-0.46.0-py3-none-any.whl.metadata (6.2 kB)\n",
            "Requirement already satisfied: pydantic!=1.8,!=1.8.1,!=2.0.0,!=2.0.1,!=2.1.0,<3.0.0,>=1.7.4 in /usr/local/lib/python3.11/dist-packages (from fastapi) (2.10.6)\n",
            "Requirement already satisfied: typing-extensions>=4.8.0 in /usr/local/lib/python3.11/dist-packages (from fastapi) (4.12.2)\n",
            "Requirement already satisfied: annotated-types>=0.6.0 in /usr/local/lib/python3.11/dist-packages (from pydantic!=1.8,!=1.8.1,!=2.0.0,!=2.0.1,!=2.1.0,<3.0.0,>=1.7.4->fastapi) (0.7.0)\n",
            "Requirement already satisfied: pydantic-core==2.27.2 in /usr/local/lib/python3.11/dist-packages (from pydantic!=1.8,!=1.8.1,!=2.0.0,!=2.0.1,!=2.1.0,<3.0.0,>=1.7.4->fastapi) (2.27.2)\n",
            "Requirement already satisfied: anyio<5,>=3.6.2 in /usr/local/lib/python3.11/dist-packages (from starlette<0.47.0,>=0.40.0->fastapi) (3.7.1)\n",
            "Requirement already satisfied: idna>=2.8 in /usr/local/lib/python3.11/dist-packages (from anyio<5,>=3.6.2->starlette<0.47.0,>=0.40.0->fastapi) (3.10)\n",
            "Requirement already satisfied: sniffio>=1.1 in /usr/local/lib/python3.11/dist-packages (from anyio<5,>=3.6.2->starlette<0.47.0,>=0.40.0->fastapi) (1.3.1)\n",
            "Downloading fastapi-0.115.11-py3-none-any.whl (94 kB)\n",
            "\u001b[2K   \u001b[90m━━━━━━━━━━━━━━━━━━━━━━━━━━━━━━━━━━━━━━━━\u001b[0m \u001b[32m94.9/94.9 kB\u001b[0m \u001b[31m5.1 MB/s\u001b[0m eta \u001b[36m0:00:00\u001b[0m\n",
            "\u001b[?25hDownloading starlette-0.46.0-py3-none-any.whl (71 kB)\n",
            "\u001b[2K   \u001b[90m━━━━━━━━━━━━━━━━━━━━━━━━━━━━━━━━━━━━━━━━\u001b[0m \u001b[32m72.0/72.0 kB\u001b[0m \u001b[31m5.2 MB/s\u001b[0m eta \u001b[36m0:00:00\u001b[0m\n",
            "\u001b[?25hInstalling collected packages: starlette, fastapi\n",
            "Successfully installed fastapi-0.115.11 starlette-0.46.0\n"
          ]
        }
      ]
    },
    {
      "cell_type": "markdown",
      "source": [
        "*FastAPI + Pydantic*"
      ],
      "metadata": {
        "id": "CBg7yzXfGk5P"
      }
    },
    {
      "cell_type": "code",
      "execution_count": null,
      "metadata": {
        "colab": {
          "base_uri": "https://localhost:8080/"
        },
        "id": "drdC0l3mPWIY",
        "outputId": "674ce49b-ef6f-4437-fdef-6ec2c6fde8c7"
      },
      "outputs": [
        {
          "output_type": "stream",
          "name": "stderr",
          "text": [
            "<ipython-input-2-5db653b716ca>:20: PydanticDeprecatedSince20: Pydantic V1 style `@validator` validators are deprecated. You should migrate to Pydantic V2 style `@field_validator` validators, see the migration guide for more details. Deprecated in Pydantic V2.0 to be removed in V3.0. See Pydantic V2 Migration Guide at https://errors.pydantic.dev/2.10/migration/\n",
            "  @validator(\"isbn\")\n",
            "<ipython-input-2-5db653b716ca>:27: PydanticDeprecatedSince20: Pydantic V1 style `@validator` validators are deprecated. You should migrate to Pydantic V2 style `@field_validator` validators, see the migration guide for more details. Deprecated in Pydantic V2.0 to be removed in V3.0. See Pydantic V2 Migration Guide at https://errors.pydantic.dev/2.10/migration/\n",
            "  @validator(\"status\")\n",
            "/usr/local/lib/python3.11/dist-packages/pydantic/_internal/_config.py:345: UserWarning: Valid config keys have changed in V2:\n",
            "* 'min_anystr_length' has been renamed to 'str_min_length'\n",
            "  warnings.warn(message, UserWarning)\n"
          ]
        }
      ],
      "source": [
        "from fastapi import FastAPI, HTTPException\n",
        "from pydantic import BaseModel, validator\n",
        "from enum import Enum\n",
        "import logging\n",
        "\n",
        "# Criação do modelo de livro\n",
        "class BookStatus(str, Enum):\n",
        "    available = \"available\"\n",
        "    borrowed = \"borrowed\"\n",
        "    reserved = \"reserved\"\n",
        "\n",
        "\n",
        "# Modelo de validação para criação de livro\n",
        "class BookCreate(BaseModel):\n",
        "    title: str\n",
        "    author: str\n",
        "    isbn: str\n",
        "    status: BookStatus\n",
        "\n",
        "    @validator(\"isbn\")\n",
        "    def validate_isbn(cls, v):\n",
        "        \"\"\"Valida que o ISBN tenha 13 caracteres\"\"\"\n",
        "        if len(v) != 13:\n",
        "            raise ValueError(\"ISBN deve ter 13 caracteres\")\n",
        "        return v\n",
        "\n",
        "    @validator(\"status\")\n",
        "    def validate_status(cls, v):\n",
        "        \"\"\"Valida que o status seja um valor válido\"\"\"\n",
        "        if v not in BookStatus.__members__:\n",
        "            raise ValueError(f\"Status deve ser um dos seguintes: {', '.join(BookStatus.__members__)}\")\n",
        "        return v\n",
        "\n",
        "    class Config:\n",
        "        min_anystr_length = 1  # Define que todos os campos devem ter no mínimo 1 caractere.\n",
        "\n",
        "\n",
        "# Criando a instância do FastAPI\n",
        "app = FastAPI()\n",
        "\n",
        "# Exemplo de good data\n",
        "good_data = {\n",
        "    \"title\": \"Harry Potter\",\n",
        "    \"author\": \"J.K. Rowling\",\n",
        "    \"isbn\": \"978-3-16-148410-0\",\n",
        "    \"status\": \"available\"\n",
        "}\n",
        "\n",
        "# Exemplo de bad data\n",
        "bad_data = {\n",
        "    \"title\": \"The Catcher in the Rye\",\n",
        "    \"author\": \"J.D. Salinger\",\n",
        "    \"isbn\": \"12345\",  # ISBN inválido\n",
        "    \"status\": \"lost\"  # Status inválido\n",
        "}\n",
        "\n",
        "# Endpoint para mostrar a validação de \"good data\"\n",
        "@app.get(\"/good_data/\")\n",
        "async def get_good_data():\n",
        "    try:\n",
        "        book = BookCreate(**good_data)\n",
        "        return {\"message\": \"Livro válido\", \"book\": book.dict()}\n",
        "    except Exception as e:\n",
        "        return {\"error\": str(e)}\n",
        "\n",
        "# Endpoint para mostrar a validação de \"bad data\"\n",
        "@app.get(\"/bad_data/\")\n",
        "async def get_bad_data():\n",
        "    try:\n",
        "        book = BookCreate(**bad_data)\n",
        "        return {\"message\": \"Livro válido\", \"book\": book.dict()}\n",
        "    except Exception as e:\n",
        "        return {\"error\": str(e)}\n"
      ]
    }
  ]
}